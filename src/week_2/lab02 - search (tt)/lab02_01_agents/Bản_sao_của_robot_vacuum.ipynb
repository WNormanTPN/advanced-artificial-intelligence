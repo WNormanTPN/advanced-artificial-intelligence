{
  "cells": [
    {
      "cell_type": "markdown",
      "metadata": {
        "id": "1PfAoNbfiZ2z"
      },
      "source": [
        "# Intelligent Agents: Reflex-Based Agents for the Vacuum-cleaner World\n",
        "\n",
        "Student Name: [Add your name]\n",
        "\n",
        "I have used the following AI tools: [list tools]\n",
        "\n",
        "I understand that my submission needs to be my own work: [your initials]"
      ]
    },
    {
      "cell_type": "markdown",
      "metadata": {
        "id": "S--HedRWiZ21"
      },
      "source": [
        "## Learning Outcomes\n",
        "\n",
        "* Design and build a simulation environment that models sensor inputs, actuator effects, and performance measurement.\n",
        "* Apply core AI concepts by implementing the agent function for a simple and model-based reflex agents that respond to environmental percepts.\n",
        "* Practice how the environment and the agent function interact.\n",
        "* Analyze agent performance through controlled experiments across different environment configurations.\n",
        "* Graduate Students: Develop strategies for handling uncertainty and imperfect information in autonomous agent systems.\n",
        "\n",
        "## Instructions\n",
        "\n",
        "Total Points: Undergrads 98 + 5 bonus / Graduate students 110\n",
        "\n",
        "Complete this notebook. Use the provided notebook cells and insert additional code and markdown cells as needed. Submit the completely rendered notebook as a HTML file.\n",
        "\n",
        "### AI Use\n",
        "\n",
        "Here are some guidelines that will make it easier for you:\n",
        "\n",
        "* __Don't:__ Rely on AI auto completion. You will waste a lot of time trying to figure out how the suggested code relates to what we do in class. Turn off AI code completion (e.g., Copilot) in your IDE.\n",
        "* __Don't:__ Do not submit code/text that you do not understand or have not checked to make sure that it is complete and correct.\n",
        "* __Do:__ Use AI for debugging and letting it explain code and concepts from class.\n",
        "\n",
        "### Using Visual Studio Code\n",
        "\n",
        "If you use VS code then you can use `Export` (click on `...` in the menu bar) to save your notebook as a HTML file. Note that you have to run all blocks before so the HTML file contains your output.\n",
        "\n",
        "### Using Google Colab\n",
        "\n",
        "In Colab you need to save the notebook on GoogleDrive to work with it. For this you need to mount your google dive and change to the correct directory by uncommenting the following lines and running the code block."
      ]
    },
    {
      "cell_type": "code",
      "execution_count": null,
      "metadata": {
        "id": "Eo2UDgibiZ22",
        "colab": {
          "base_uri": "https://localhost:8080/"
        },
        "outputId": "126823e7-e69e-4b90-d4a9-60f6be9e2a94"
      },
      "outputs": [
        {
          "output_type": "stream",
          "name": "stdout",
          "text": [
            "Mounted at /content/drive\n"
          ]
        }
      ],
      "source": [
        "from google.colab import drive\n",
        "import os\n",
        "\n",
        "drive.mount('/content/drive')\n",
        "os.chdir('/content/drive/My Drive/Colab Notebooks/')"
      ]
    },
    {
      "cell_type": "markdown",
      "metadata": {
        "id": "-e1jzqFyiZ24"
      },
      "source": [
        "Once you are done with the assignment and have run all code blocks using `Runtime/Run all`, you can convert the file on your GoogleDrive into HTML be uncommenting the following line and running the block."
      ]
    },
    {
      "cell_type": "code",
      "execution_count": null,
      "metadata": {
        "id": "PeHIY4TJiZ24"
      },
      "outputs": [],
      "source": [
        "# %jupyter nbconvert --to html Copy\\ of\\ robot_vacuum.ipynb"
      ]
    },
    {
      "cell_type": "markdown",
      "metadata": {
        "id": "reafmGpZiZ24"
      },
      "source": [
        "You may have to fix the file location or the file name to match how it looks on your GoogleDrive. You can navigate in Colab to your GoogleDrive using the little folder symbol in the navigation bar to the left."
      ]
    },
    {
      "cell_type": "markdown",
      "metadata": {
        "id": "GJhBQBqpiZ24"
      },
      "source": [
        "## Introduction\n",
        "\n",
        "In this assignment you will implement a simulator environment for an automatic vacuum cleaner robot, a set of different reflex-based agent programs, and perform a comparison study for cleaning a single room. Focus on the __cleaning phase__ which starts when the robot is activated and ends when the last dirty square in the room has been cleaned. Someone else will take care of the agent program needed to navigate back to the charging station after the room is clean.\n",
        "\n",
        "## PEAS description of the cleaning phase\n",
        "\n",
        "__Performance Measure:__ Each action costs 1 energy unit. The performance is measured as the sum of the energy units used to clean the whole room.\n",
        "\n",
        "__Environment:__ A room with $n \\times n$ squares where $n = 5$. Dirt is randomly placed on each square with probability $p = 0.2$. For simplicity, you can assume that the agent knows the size and the layout of the room (i.e., it knows $n$). To start, the agent is placed on a random square.\n",
        "\n",
        "__Actuators:__ The agent can clean the current square (action `suck`) or move to an adjacent square by going `north`, `east`, `south`, or `west`.\n",
        "\n",
        "__Sensors:__ Four bumper sensors, one for north, east, south, and west; a dirt sensor reporting dirt in the current square.  \n",
        "\n",
        "\n",
        "## The agent program for a simple randomized agent\n",
        "\n",
        "The agent program is a function that gets sensor information (the current percepts) as the arguments. The arguments are:\n",
        "\n",
        "* A dictionary with boolean entries for the for bumper sensors `north`, `east`, `west`, `south`. E.g., if the agent is on the north-west corner, `bumpers` will be `{\"north\" : True, \"east\" : False, \"south\" : False, \"west\" : True}`.\n",
        "* The dirt sensor produces a boolean.\n",
        "\n",
        "The agent returns the chosen action as a string.\n",
        "\n",
        "Here is an example implementation for the agent program of a simple randomized agent:  "
      ]
    },
    {
      "cell_type": "code",
      "execution_count": null,
      "metadata": {
        "id": "0d--FHjIiZ25"
      },
      "outputs": [],
      "source": [
        "# make sure numpy is installed\n",
        "%pip install -q numpy"
      ]
    },
    {
      "cell_type": "code",
      "execution_count": null,
      "metadata": {
        "id": "SeR1KZnjiZ25"
      },
      "outputs": [],
      "source": [
        "import numpy as np\n",
        "\n",
        "actions = [\"north\", \"east\", \"west\", \"south\", \"suck\"]\n",
        "\n",
        "def simple_randomized_agent(bumpers, dirty):\n",
        "    return np.random.choice(actions)"
      ]
    },
    {
      "cell_type": "code",
      "execution_count": null,
      "metadata": {
        "id": "RxL3CH3JiZ26",
        "outputId": "f0adeabb-f72d-48c4-fabb-85beb928dea2",
        "colab": {
          "base_uri": "https://localhost:8080/",
          "height": 34
        }
      },
      "outputs": [
        {
          "output_type": "execute_result",
          "data": {
            "text/plain": [
              "np.str_('west')"
            ],
            "application/vnd.google.colaboratory.intrinsic+json": {
              "type": "string"
            }
          },
          "metadata": {},
          "execution_count": 5
        }
      ],
      "source": [
        "# define percepts (current location is NW corner and it is dirty)\n",
        "bumpers = {\"north\" : True, \"east\" : False, \"south\" : False, \"west\" : True}\n",
        "dirty = True\n",
        "\n",
        "# call agent program function with percepts and it returns an action\n",
        "simple_randomized_agent(bumpers, dirty)"
      ]
    },
    {
      "cell_type": "markdown",
      "metadata": {
        "id": "ryMAh_O1iZ26"
      },
      "source": [
        "__Note:__ This is not a rational intelligent agent. It ignores its sensors and may bump into a wall repeatedly or not clean a dirty square. You will be asked to implement rational agents below."
      ]
    },
    {
      "cell_type": "markdown",
      "metadata": {
        "id": "J2fC0pkgiZ26"
      },
      "source": [
        "## Simple environment example\n",
        "\n",
        "We implement a simple simulation environment that supplies the agent with its percepts.\n",
        "The simple environment is infinite in size (bumpers are always `False`) and every square is always dirty, even if the agent cleans it. The environment function returns a different performance measure than the one specified in the PEAS description! Since the room is infinite and all squares are constantly dirty, the agent can never clean the whole room. Your implementation needs to implement the **correct performance measure.** The energy budget of the agent is specified as `max_steps`."
      ]
    },
    {
      "cell_type": "code",
      "execution_count": null,
      "metadata": {
        "id": "SzW88npRiZ26"
      },
      "outputs": [],
      "source": [
        "def simple_environment(agent_function, max_steps, verbose = True):\n",
        "    num_cleaned = 0\n",
        "\n",
        "    for i in range(max_steps):\n",
        "        dirty = True\n",
        "        bumpers = {\"north\" : False, \"south\" : False, \"west\" : False, \"east\" : False}\n",
        "\n",
        "        action = agent_function(bumpers, dirty)\n",
        "        if (verbose): print(\"step\", i , \"- action:\", action)\n",
        "\n",
        "        if (action == \"suck\"):\n",
        "            num_cleaned = num_cleaned + 1\n",
        "\n",
        "    return num_cleaned\n",
        "\n"
      ]
    },
    {
      "cell_type": "markdown",
      "metadata": {
        "id": "JrBHTwZWiZ27"
      },
      "source": [
        "Do one simulation run with a simple randomized agent that has enough energy for 20 steps."
      ]
    },
    {
      "cell_type": "code",
      "execution_count": null,
      "metadata": {
        "id": "O4o3sRLdiZ27",
        "outputId": "974e91f4-7ef8-4248-8860-d550420d9b14",
        "colab": {
          "base_uri": "https://localhost:8080/"
        }
      },
      "outputs": [
        {
          "output_type": "stream",
          "name": "stdout",
          "text": [
            "step 0 - action: west\n",
            "step 1 - action: south\n",
            "step 2 - action: south\n",
            "step 3 - action: north\n",
            "step 4 - action: west\n",
            "step 5 - action: west\n",
            "step 6 - action: east\n",
            "step 7 - action: suck\n",
            "step 8 - action: suck\n",
            "step 9 - action: suck\n",
            "step 10 - action: south\n",
            "step 11 - action: west\n",
            "step 12 - action: suck\n",
            "step 13 - action: east\n",
            "step 14 - action: south\n",
            "step 15 - action: west\n",
            "step 16 - action: suck\n",
            "step 17 - action: north\n",
            "step 18 - action: west\n",
            "step 19 - action: west\n"
          ]
        },
        {
          "output_type": "execute_result",
          "data": {
            "text/plain": [
              "5"
            ]
          },
          "metadata": {},
          "execution_count": 7
        }
      ],
      "source": [
        "simple_environment(simple_randomized_agent, max_steps = 20)"
      ]
    },
    {
      "cell_type": "markdown",
      "metadata": {
        "id": "dZcsvxDAiZ27"
      },
      "source": [
        "# Tasks\n",
        "\n",
        "## General [10 Points]\n",
        "\n",
        "1. Make sure that you use the latest version of this notebook.\n",
        "2. Your implementation can use libraries like math, numpy, scipy, but not libraries that implement intelligent agents or complete search algorithms. Try to keep the code simple! In this course, we want to learn about the algorithms and we often do not need to use object-oriented design.\n",
        "3. You notebook needs to be formatted professionally.\n",
        "    - Add additional markdown blocks for your description, comments in the code, add tables and use mathplotlib to produce charts where appropriate\n",
        "    - Do not show debugging output or include an excessive amount of output.\n",
        "    - Check that your submitted file is readable and contains all figures.\n",
        "4. Document your code. Use comments in the code and add a discussion of how your implementation works and your design choices.\n",
        "\n",
        "\n",
        "## Task 1: Implement a simulation environment [20 Points]\n",
        "\n",
        "The simple environment above is not very realistic. Your environment simulator needs to follow the PEAS description from above. It needs to:\n",
        "\n",
        "* Initialize the environment by storing the state of each square (clean/dirty) and making some dirty. ([Help with random numbers and arrays in Python](https://github.com/mhahsler/CS7320-AI/blob/master/HOWTOs/random_numbers_and_arrays.ipynb))\n",
        "* Keep track of the agent's position.\n",
        "* Call the agent function repeatedly and provide the agent function with the sensor inputs.  \n",
        "* React to the agent's actions. E.g, by removing dirt from a square or moving the agent around unless there is a wall in the way.\n",
        "* Keep track of the performance measure. That is, track the agent's actions until all dirty squares are clean and count the number of actions it takes the agent to complete the task.\n",
        "\n",
        "The easiest implementation for the environment is to hold an 2-dimensional array to represent if squares are clean or dirty and to call the agent function in a loop until all squares are clean or a predefined number of steps have been reached (i.e., the robot runs out of energy).\n",
        "\n",
        "The simulation environment should be a function like the `simple_environment()` and needs to work with the simple randomized agent program from above. **Use the same environment for all your agent implementations in the tasks below.**\n",
        "\n",
        "*Note on debugging:* Debugging is difficult. Make sure your environment prints enough information when you use `verbose = True`. Also, implementing a function that the environment can use to displays the room with dirt and the current position of the robot at every step is very useful.  "
      ]
    },
    {
      "cell_type": "code",
      "execution_count": null,
      "metadata": {
        "id": "Fp5qWbIUiZ27"
      },
      "outputs": [],
      "source": [
        "# Your code and description goes here\n",
        "import numpy as np\n",
        "\n",
        "# Các action có thể của robot\n",
        "actions = [\"north\", \"east\", \"south\", \"west\", \"suck\"]\n",
        "\n",
        "# Chọn hành động ngẫu nhiên với simple_randomized_agent\n",
        "def simple_randomized_agent(bumpers, dirty):\n",
        "    return np.random.choice(actions)\n",
        "\n",
        "# Task 1: Môi trường mô phỏng robot hút bụi\n",
        "def vacuum_environment(agent_function, n=5, p=0.2, max_steps=100, verbose=True):\n",
        "    \"\"\"\n",
        "    Môi trường mô phỏng robot hút bụi theo PEAS:\n",
        "    - n x n ô\n",
        "    - Mỗi ô bẩn với xác suất p\n",
        "    - Robot bắt đầu tại ô ngẫu nhiên\n",
        "    - Agent nhận cảm biến: bumpers và dirt\n",
        "    - Trả về số bước robot đã thực hiện để làm sạch toàn bộ phòng\n",
        "    \"\"\"\n",
        "\n",
        "    # 1. Khởi tạo phòng\n",
        "    # True = dirty, False = clean\n",
        "    room = np.random.rand(n, n) < p\n",
        "    # Vị trí robot: [row, col]\n",
        "    robot_pos = [np.random.randint(0, n), np.random.randint(0, n)]\n",
        "    steps = 0\n",
        "    log = []   # Lưu log để in 5 bước cuối\n",
        "\n",
        "    # Hàm trả về trạng thái bumpers (True nếu chạm tường)\n",
        "    def get_bumpers(pos):\n",
        "        row, collumn = pos\n",
        "        return {\n",
        "            \"north\": row == 0,\n",
        "            \"south\": row == n-1,\n",
        "            \"west\": collumn == 0,\n",
        "            \"east\": collumn == n-1\n",
        "        }\n",
        "\n",
        "    # Hàm hiển thị phòng\n",
        "    def display_room(current_pos, room_state):\n",
        "      for i in range(n):\n",
        "          row = \"\"\n",
        "          for j in range(n):\n",
        "              if i == current_pos[0] and j == current_pos[1]:\n",
        "                  row += \"R \"\n",
        "              elif room_state[i, j]:\n",
        "                  row += \"D \"\n",
        "              else:\n",
        "                  row += \". \"\n",
        "          print(row)\n",
        "      print(\"-\" * (n*2))\n",
        "\n",
        "    # 2. Vòng lặp hành động robot\n",
        "    for step in range(max_steps):\n",
        "        steps += 1\n",
        "        bumpers = get_bumpers(robot_pos)\n",
        "        dirty = room[robot_pos[0], robot_pos[1]]\n",
        "\n",
        "        # Lấy action từ agent\n",
        "        action = agent_function(bumpers, dirty)\n",
        "\n",
        "        # Lưu trạng thái để in 5 bước cuối\n",
        "        log.append((step, robot_pos.copy(), dirty, action, room.copy()))\n",
        "\n",
        "        # 3. Thực hiện action\n",
        "        if action == \"suck\":\n",
        "            room[robot_pos[0], robot_pos[1]] = False\n",
        "        elif action == \"north\" and not bumpers[\"north\"]:\n",
        "            robot_pos[0] -= 1\n",
        "        elif action == \"south\" and not bumpers[\"south\"]:\n",
        "            robot_pos[0] += 1\n",
        "        elif action == \"west\" and not bumpers[\"west\"]:\n",
        "            robot_pos[1] -= 1\n",
        "        elif action == \"east\" and not bumpers[\"east\"]:\n",
        "            robot_pos[1] += 1\n",
        "\n",
        "        # Nếu phòng đã sạch, dừng vòng lặp\n",
        "        if not room.any():\n",
        "            break\n",
        "    # 4. In 5 bước cuối cùng khi verbose=True\n",
        "    if verbose:\n",
        "        for entry in log[-5:]:\n",
        "            step, pos, dirty, action, room_state = entry\n",
        "            print(f\"Step {step+1}: Robot at {pos}, Dirty={dirty}, Action={action}\")\n",
        "            display_room(pos, room_state)\n",
        "        if not room.any():\n",
        "            print(f\"All clean! Steps taken: {steps}\")\n",
        "    return steps"
      ]
    },
    {
      "cell_type": "markdown",
      "metadata": {
        "id": "jIPClHJHiZ27"
      },
      "source": [
        "Show that your environment works with the simple randomized agent from above."
      ]
    },
    {
      "cell_type": "code",
      "execution_count": null,
      "metadata": {
        "id": "y4l6WDYAiZ27",
        "colab": {
          "base_uri": "https://localhost:8080/"
        },
        "outputId": "040dd9a2-794d-494c-f060-2dbd8144ee19"
      },
      "outputs": [
        {
          "output_type": "stream",
          "name": "stdout",
          "text": [
            "Step 223: Robot at [1, 2], Dirty=False, Action=north\n",
            ". D . . . \n",
            ". . R . . \n",
            ". . . . . \n",
            ". . . . . \n",
            ". . . . . \n",
            "----------\n",
            "Step 224: Robot at [0, 2], Dirty=False, Action=suck\n",
            ". D R . . \n",
            ". . . . . \n",
            ". . . . . \n",
            ". . . . . \n",
            ". . . . . \n",
            "----------\n",
            "Step 225: Robot at [0, 2], Dirty=False, Action=west\n",
            ". D R . . \n",
            ". . . . . \n",
            ". . . . . \n",
            ". . . . . \n",
            ". . . . . \n",
            "----------\n",
            "Step 226: Robot at [0, 1], Dirty=True, Action=north\n",
            ". R . . . \n",
            ". . . . . \n",
            ". . . . . \n",
            ". . . . . \n",
            ". . . . . \n",
            "----------\n",
            "Step 227: Robot at [0, 1], Dirty=True, Action=suck\n",
            ". R . . . \n",
            ". . . . . \n",
            ". . . . . \n",
            ". . . . . \n",
            ". . . . . \n",
            "----------\n",
            "All clean! Steps taken: 227\n",
            "Steps taken by the agent: 227\n"
          ]
        }
      ],
      "source": [
        "# Your code and description goes here\n",
        "# Test môi trường với simple_randomized_agent\n",
        "steps_taken = vacuum_environment(simple_randomized_agent, n=5, p=0.05, max_steps=400, verbose=True)\n",
        "print(f\"Steps taken by the agent: {steps_taken}\")"
      ]
    },
    {
      "cell_type": "markdown",
      "metadata": {
        "id": "DT3k5C9GiZ27"
      },
      "source": [
        "## Task 2:  Implement a simple reflex agent [10 Points]\n",
        "\n",
        "The simple reflex agent randomly walks around but reacts to the bumper sensor by not bumping into the wall and to dirt with sucking. Implement the agent program as a function.\n",
        "\n",
        "_Note:_ Agents cannot directly use variable in the environment. They only gets the percepts as the arguments to the agent function. Use the function signature for the `simple_randomized_agent` function above."
      ]
    },
    {
      "cell_type": "code",
      "execution_count": null,
      "metadata": {
        "id": "sSf9vtXniZ27"
      },
      "outputs": [],
      "source": [
        "# Your code and description goes here\n",
        "import numpy as np\n",
        "\n",
        "# Các action\n",
        "actions = [\"north\", \"east\", \"south\", \"west\", \"suck\"]\n",
        "\n",
        "def simple_reflex_agent(bumpers, dirty):\n",
        "    \"\"\"\n",
        "    Simple reflex agent:\n",
        "    - Nếu ô hiện tại bẩn -> hút bụi\n",
        "    - Nếu không -> chọn di chuyển ngẫu nhiên nhưng không đụng tường\n",
        "    \"\"\"\n",
        "    if dirty:\n",
        "        return \"suck\"\n",
        "\n",
        "    # Lọc các hướng khả dụng dựa trên bumpers\n",
        "    possible_moves = [dir for dir, blocked in bumpers.items() if not blocked]\n",
        "\n",
        "    if possible_moves:\n",
        "        return np.random.choice(possible_moves)\n",
        "    else:\n",
        "        # Nếu xung quanh là tường hết, chỉ còn hút bụi\n",
        "        return \"suck\""
      ]
    },
    {
      "cell_type": "markdown",
      "metadata": {
        "id": "hmmkTB1ziZ28"
      },
      "source": [
        "Show how the agent works with your environment."
      ]
    },
    {
      "cell_type": "code",
      "execution_count": null,
      "metadata": {
        "id": "ysarUTRBiZ28",
        "colab": {
          "base_uri": "https://localhost:8080/"
        },
        "outputId": "6afb2f70-e23f-4dce-fa76-e2040fbc62ea"
      },
      "outputs": [
        {
          "output_type": "stream",
          "name": "stdout",
          "text": [
            "Step 114: Robot at [2, 2], Dirty=False, Action=east\n",
            ". . . . D \n",
            ". . . . . \n",
            ". . R . . \n",
            ". . . . . \n",
            ". . . . . \n",
            "----------\n",
            "Step 115: Robot at [2, 3], Dirty=False, Action=north\n",
            ". . . . D \n",
            ". . . . . \n",
            ". . . R . \n",
            ". . . . . \n",
            ". . . . . \n",
            "----------\n",
            "Step 116: Robot at [1, 3], Dirty=False, Action=east\n",
            ". . . . D \n",
            ". . . R . \n",
            ". . . . . \n",
            ". . . . . \n",
            ". . . . . \n",
            "----------\n",
            "Step 117: Robot at [1, 4], Dirty=False, Action=north\n",
            ". . . . D \n",
            ". . . . R \n",
            ". . . . . \n",
            ". . . . . \n",
            ". . . . . \n",
            "----------\n",
            "Step 118: Robot at [0, 4], Dirty=True, Action=suck\n",
            ". . . . R \n",
            ". . . . . \n",
            ". . . . . \n",
            ". . . . . \n",
            ". . . . . \n",
            "----------\n",
            "All clean! Steps taken: 118\n",
            "Steps taken by simple reflex agent: 118\n"
          ]
        }
      ],
      "source": [
        "# Your code and description goes here\n",
        "# Test simple reflex agent trên môi trường Task 1\n",
        "steps_taken = vacuum_environment(simple_reflex_agent, n=5, p=0.2, max_steps=200, verbose=True)\n",
        "print(f\"Steps taken by simple reflex agent: {steps_taken}\")"
      ]
    },
    {
      "cell_type": "markdown",
      "metadata": {
        "id": "PgS1472qiZ28"
      },
      "source": [
        "## Task 3: Implement a model-based reflex agent [20 Points]\n",
        "\n",
        "Model-based agents use a state to keep track of what they have done and perceived so far. Your agent needs to find out where it is located and then keep track of its current location. You also need a set of rules based on the state and the percepts to make sure that the agent will clean the whole room. For example, the agent can move to a corner to determine its location and then it can navigate through the whole room and clean dirty squares.\n",
        "\n",
        "Describe how you define the __agent state__ and how your agent works before implementing it. ([Help with implementing state information on Python](https://github.com/mhahsler/CS7320-AI/blob/master/HOWTOs/store_agent_state_information.ipynb))"
      ]
    },
    {
      "cell_type": "code",
      "execution_count": null,
      "metadata": {
        "id": "9NO1-IxNiZ28"
      },
      "outputs": [],
      "source": [
        "# Your short description of the state and your implementation goes here\n",
        "#### Cách thiết kế agent state trong task 3 là ta trước tiên nên rằng mục tiêu của model-based agent là\n",
        "#### ghi nhớ những gì đã làm và đã quan sát để ra quyết định tốt hơn so với simple reflex agent.\n",
        "\n",
        "#### Trong đó agent lưu vị trí hiện tại trong phòng, giúp nó biết mình đang ở đâu và không bị lạc đường\n",
        "#### trong quá trình di chuyển.\n",
        "\n",
        "#### Nó còn lưu thông tin về những ô đã ghé qua, mỗi ô sẽ được đánh dấu khi agent đã đến đó.\n",
        "\n",
        "#### Cuối cùng là tổng số ô đã hút bụi, giúp ta theo dõi tiến trình làm sạch căn phòng và đánh giá\n",
        "#### được hiệu suất.\n",
        "\n",
        "#### Cách agent hoạt động là dựa trên state và percepts, đầu tiên agent nhận thông tin từ cảm biến\n",
        "#### xem ô hiện tại có bẩn không và thông tin tường ở bốn hướng, sau đó ra quyết định hành động dựa\n",
        "#### trên state và percepts.\n",
        "\n",
        "#### Nếu ô hiện tại bẩn thì sẽ dùng action \"suck\" để làm sạch.\n",
        "\n",
        "#### Nếu ô hiện tại sạch thì sẽ chọn di chuyển tới một ô chưa đi (dựa vào ma trận đã đi qua) theo ưu\n",
        "#### tiên: north → east → south → west.\n",
        "\n",
        "#### Nếu tất cả ô xung quanh đã đi hoặc là tường → chọn bất kỳ hướng hợp lệ để tiếp tục.\n",
        "\n",
        "#### Sau đó cập nhật state sau mỗi hành động:\n",
        "\n",
        "#### - Khi hút bụi: đánh dấu ô đã sạch trong visited và tăng total_cleaned\n",
        "#### - Khi di chuyển: cập nhật vị trí row và col hiện tại.\n",
        "\n",
        "#### Vậy chiến lược tổng thể của agent là agent bắt đầu từ vị trí ngẫu nhiên, sau đó dùng thông tin\n",
        "#### state để quét toàn bộ phòng theo lưới, tránh đi lại vào các ô đã sạch với mục tiêu cuối cùng là\n",
        "#### làm sạch tất cả ô bẩn với ít bước di chuyển nhất.\n"
      ]
    },
    {
      "cell_type": "code",
      "execution_count": null,
      "metadata": {
        "id": "WF3QzYyFiZ28"
      },
      "outputs": [],
      "source": [
        "import numpy as np\n",
        "\n",
        "# Các action\n",
        "actions = [\"north\", \"east\", \"south\", \"west\", \"suck\"]\n",
        "\n",
        "# State nội bộ (module-level dict)\n",
        "_agent_state = {\n",
        "    'n': 5,\n",
        "    'position': [0, 0],\n",
        "    'room_map': None,\n",
        "    'visited': None,\n",
        "    'is_located': False,\n",
        "    'path': [],\n",
        "    'step': 0\n",
        "}\n",
        "\n",
        "def reset_agent_state(n=5):\n",
        "    \"\"\"Khởi tạo state trước khi chạy agent.\"\"\"\n",
        "    global _agent_state\n",
        "    _agent_state = {\n",
        "        'n': n,\n",
        "        'position': [0, 0],\n",
        "        'room_map': np.zeros((n, n), dtype=bool),  # False=clean/unknown, True=dirty\n",
        "        'visited': np.zeros((n, n), dtype=bool),   # Ô đã thăm\n",
        "        'is_located': False,\n",
        "        'path': [],\n",
        "        'step': 0\n",
        "    }\n",
        "\n",
        "def model_based_reflex_agent(bumpers, dirty):\n",
        "    \"\"\"\n",
        "    Model-based reflex agent (non-OOP):\n",
        "    - Giai đoạn 1: Đi north, west để định vị tại [0,0].\n",
        "    - Giai đoạn 2: Di chuyển zigzag để thăm mọi ô, hút bụi khi bẩn.\n",
        "    Parameters:\n",
        "        bumpers (dict): {\"north\": bool, \"south\": bool, \"west\": bool, \"east\": bool}\n",
        "        dirty (bool): Ô hiện tại bẩn (True) hay sạch (False)\n",
        "    Returns:\n",
        "        action (str): \"north\", \"east\", \"south\", \"west\", hoặc \"suck\"\n",
        "    \"\"\"\n",
        "    global _agent_state\n",
        "    n = _agent_state['n']\n",
        "    position = _agent_state['position']\n",
        "    row, col = position\n",
        "    room_map = _agent_state['room_map']\n",
        "    visited = _agent_state['visited']\n",
        "    is_located = _agent_state['is_located']\n",
        "    path = _agent_state['path']\n",
        "    step = _agent_state['step']\n",
        "\n",
        "    # Cập nhật state: ô hiện tại bẩn/sạch, đã thăm\n",
        "    room_map[row, col] = dirty\n",
        "    visited[row, col] = True\n",
        "\n",
        "    # Giai đoạn 1: Định vị tại [0,0]\n",
        "    if not is_located:\n",
        "        if bumpers[\"north\"] and bumpers[\"west\"]:\n",
        "            _agent_state['is_located'] = True\n",
        "            _agent_state['position'] = [0, 0]\n",
        "            # Tạo đường đi zigzag: hàng chẵn (left→right), hàng lẻ (right→left)\n",
        "            path = []\n",
        "            for r in range(n):\n",
        "                if r % 2 == 0:\n",
        "                    for c in range(n):\n",
        "                        path.append((r, c))\n",
        "                else:\n",
        "                    for c in range(n-1, -1, -1):\n",
        "                        path.append((r, c))\n",
        "            _agent_state['path'] = path\n",
        "        elif not bumpers[\"north\"]:\n",
        "            position[0] -= 1\n",
        "            _agent_state['position'] = position\n",
        "            return \"north\"\n",
        "        elif not bumpers[\"west\"]:\n",
        "            position[0] = 0  # Reset row khi chuyển sang west\n",
        "            position[1] -= 1\n",
        "            _agent_state['position'] = position\n",
        "            return \"west\"\n",
        "\n",
        "    # Giai đoạn 2: Hút bụi hoặc di chuyển zigzag\n",
        "    if dirty:\n",
        "        return \"suck\"\n",
        "\n",
        "    if step >= len(path):\n",
        "        return \"suck\"  # Tránh treo nếu hết đường\n",
        "\n",
        "    # Lấy vị trí tiếp theo trong zigzag\n",
        "    next_pos = path[step]\n",
        "    _agent_state['step'] += 1\n",
        "\n",
        "    # Chọn action để đến next_pos\n",
        "    if next_pos[0] == row + 1:\n",
        "        position[0] += 1\n",
        "        _agent_state['position'] = position\n",
        "        return \"south\"\n",
        "    elif next_pos[0] == row - 1:\n",
        "        position[0] -= 1\n",
        "        _agent_state['position'] = position\n",
        "        return \"north\"\n",
        "    elif next_pos[1] == col + 1:\n",
        "        position[1] += 1\n",
        "        _agent_state['position'] = position\n",
        "        return \"east\"\n",
        "    elif next_pos[1] == col - 1:\n",
        "        position[1] -= 1\n",
        "        _agent_state['position'] = position\n",
        "        return \"west\"\n",
        "\n",
        "    return \"suck\"  # Dự phòng"
      ]
    },
    {
      "cell_type": "markdown",
      "metadata": {
        "id": "Aa4uVJwiiZ28"
      },
      "source": [
        "Show how the agent works with your environment."
      ]
    },
    {
      "cell_type": "code",
      "execution_count": null,
      "metadata": {
        "id": "s0_J5hFliZ28",
        "colab": {
          "base_uri": "https://localhost:8080/"
        },
        "outputId": "4a2e800d-21d0-4761-fcf0-a087e2607b60"
      },
      "outputs": [
        {
          "output_type": "stream",
          "name": "stdout",
          "text": [
            "Step 30: Robot at [3, 1], Dirty=False, Action=suck\n",
            ". . . . . \n",
            ". . . . . \n",
            ". . . . . \n",
            "D R . . . \n",
            ". D . . . \n",
            "----------\n",
            "Step 31: Robot at [3, 0], Dirty=True, Action=suck\n",
            ". . . . . \n",
            ". . . . . \n",
            ". . . . . \n",
            "R . . . . \n",
            ". D . . . \n",
            "----------\n",
            "Step 32: Robot at [3, 0], Dirty=False, Action=suck\n",
            ". . . . . \n",
            ". . . . . \n",
            ". . . . . \n",
            "R . . . . \n",
            ". D . . . \n",
            "----------\n",
            "Step 33: Robot at [4, 0], Dirty=False, Action=suck\n",
            ". . . . . \n",
            ". . . . . \n",
            ". . . . . \n",
            ". . . . . \n",
            "R D . . . \n",
            "----------\n",
            "Step 34: Robot at [4, 1], Dirty=True, Action=suck\n",
            ". . . . . \n",
            ". . . . . \n",
            ". . . . . \n",
            ". . . . . \n",
            ". R . . . \n",
            "----------\n",
            "All clean! Steps taken: 34\n",
            "Steps taken by model-based reflex agent: 34\n"
          ]
        }
      ],
      "source": [
        "# Your code goes here\n",
        "# Test với vacuum_environment\n",
        "np.random.seed(42)\n",
        "reset_agent_state(n=5)\n",
        "steps_taken = vacuum_environment(model_based_reflex_agent, n=5, p=0.2, max_steps=200, verbose=True)\n",
        "print(f\"Steps taken by model-based reflex agent: {steps_taken}\")"
      ]
    },
    {
      "cell_type": "markdown",
      "metadata": {
        "id": "DcEXe9oMiZ28"
      },
      "source": [
        "## Task 4: Simulation study [30 Points]\n",
        "\n",
        "Compare the performance (the performance measure is defined in the PEAS description above) of the agents using  environments of different size. Do at least $5 \\times 5$, $10 \\times 10$ and\n",
        "$100 \\times 100$. Use 100 random runs for each. Present the results using tables and graphs. Discuss the differences between the agents.\n",
        "([Help with charts and tables in Python](https://github.com/mhahsler/CS7320-AI/blob/master/HOWTOs/charts_and_tables.ipynb))"
      ]
    },
    {
      "cell_type": "code",
      "execution_count": null,
      "metadata": {
        "id": "HBPX4MFYiZ28",
        "colab": {
          "base_uri": "https://localhost:8080/",
          "height": 852
        },
        "outputId": "52cc3d18-22d7-476c-aae1-5dfd2197a194"
      },
      "outputs": [
        {
          "output_type": "stream",
          "name": "stdout",
          "text": [
            "\n",
            "Running for grid size 5x5 ...\n",
            "Randomized Agent on 5x5: 377.59\n",
            "Simple Reflex Agent on 5x5: 120.51\n",
            "Model-based Reflex Agent on 5x5: 109.41\n",
            "\n",
            "Running for grid size 10x10 ...\n",
            "Randomized Agent on 10x10: 1969.67\n",
            "Simple Reflex Agent on 10x10: 892.99\n",
            "Model-based Reflex Agent on 10x10: 163.32\n",
            "\n",
            "Running for grid size 100x100 ...\n",
            "Randomized Agent on 100x100: 2000.00\n",
            "Simple Reflex Agent on 100x100: 2000.00\n",
            "Model-based Reflex Agent on 100x100: 2000.00\n",
            "\n",
            "=== Average Performance (100 runs) ===\n",
            "Size\tRandomized\tSimple Reflex\tModel-based Reflex\n",
            "5x5\t377.59\t\t120.51\t\t109.41\n",
            "10x10\t1969.67\t\t892.99\t\t163.32\n",
            "100x100\t2000.00\t\t2000.00\t\t2000.00\n"
          ]
        },
        {
          "output_type": "display_data",
          "data": {
            "text/plain": [
              "<Figure size 800x500 with 1 Axes>"
            ],
            "image/png": "[encoded data removed]"
          },
          "metadata": {}
        }
      ],
      "source": [
        "# Your code goes here\n",
        "import numpy as np\n",
        "import matplotlib.pyplot as plt\n",
        "\n",
        "# Hàm chạy nhiều lần và lấy trung bình số ô đã clean\n",
        "def evaluate_agent(agent_func, env_func, n, p=0.2, max_steps=200, runs=100, model_based=False):\n",
        "    results = []\n",
        "    for _ in range(runs):\n",
        "        if model_based:\n",
        "            reset_agent_state(n)  # reset state cho agent model-based\n",
        "        cleaned = env_func(agent_func, n=n, p=p, max_steps=max_steps, verbose=False)\n",
        "        results.append(cleaned)\n",
        "    return np.mean(results)\n",
        "\n",
        "# So sánh 3 agent\n",
        "def simulation_study():\n",
        "    sizes = [5, 10, 100]\n",
        "    agents = {\n",
        "        \"Randomized Agent\": (simple_randomized_agent, False),\n",
        "        \"Simple Reflex Agent\": (simple_reflex_agent, False),\n",
        "        \"Model-based Reflex Agent\": (model_based_reflex_agent, True),\n",
        "    }\n",
        "\n",
        "    results = {name: [] for name in agents.keys()}\n",
        "\n",
        "    for size in sizes:\n",
        "        print(f\"\\nRunning for grid size {size}x{size} ...\")\n",
        "        for name, (agent, is_model) in agents.items():\n",
        "            avg_cleaned = evaluate_agent(\n",
        "                agent, vacuum_environment, n=size, p=0.2, max_steps=2000, runs=100, model_based=is_model\n",
        "            )\n",
        "            results[name].append(avg_cleaned)\n",
        "            print(f\"{name} on {size}x{size}: {avg_cleaned:.2f}\")\n",
        "\n",
        "    # Hiển thị bảng\n",
        "    print(\"\\n=== Average Performance (100 runs) ===\")\n",
        "    print(\"Size\\tRandomized\\tSimple Reflex\\tModel-based Reflex\")\n",
        "    for i, size in enumerate(sizes):\n",
        "        print(f\"{size}x{size}\\t{results['Randomized Agent'][i]:.2f}\\t\\t{results['Simple Reflex Agent'][i]:.2f}\\t\\t{results['Model-based Reflex Agent'][i]:.2f}\")\n",
        "\n",
        "    # Vẽ biểu đồ\n",
        "    x = np.arange(len(sizes))\n",
        "    width = 0.25\n",
        "    plt.figure(figsize=(8, 5))\n",
        "    plt.bar(x - width, results[\"Randomized Agent\"], width, label=\"Randomized Agent\")\n",
        "    plt.bar(x, results[\"Simple Reflex Agent\"], width, label=\"Simple Reflex Agent\")\n",
        "    plt.bar(x + width, results[\"Model-based Reflex Agent\"], width, label=\"Model-based Reflex Agent\")\n",
        "\n",
        "    plt.xticks(x, [f\"{s}x{s}\" for s in sizes])\n",
        "    plt.ylabel(\"Average Cleaned Squares\")\n",
        "    plt.xlabel(\"Environment Size\")\n",
        "    plt.title(\"Comparison of Agent Performance (100 runs)\")\n",
        "    plt.legend()\n",
        "    plt.show()\n",
        "\n",
        "    return results\n",
        "\n",
        "# Chạy Task 4\n",
        "results = simulation_study()\n"
      ]
    },
    {
      "cell_type": "markdown",
      "metadata": {
        "id": "MDlcKSObiZ28"
      },
      "source": [
        "Fill out the following table with the average performance measure for 100 random runs (you may also create this table with code):\n",
        "\n",
        "| Size     | Randomized Agent | Simple Reflex Agent | Model-based Reflex Agent |\n",
        "|----------|------------------|---------------------|--------------------------|\n",
        "| 5x5     |377.59|120.51 |109.41 |\n",
        "| 10x10   |1969.67 |892.99 |163.32 |\n",
        "| 100x100 |2000.00 |2000.00 |2000.00 |\n",
        "\n",
        "Add charts to compare the performance of the different agents."
      ]
    },
    {
      "cell_type": "code",
      "execution_count": null,
      "metadata": {
        "id": "nukDXt79iZ28"
      },
      "outputs": [],
      "source": [
        "# Your graphs and discussion of the results goes here\n",
        "# Nhận xét về hiệu quả của 3 agent sau khi quét:\n",
        "# 1. Randomized Agent có hiệu quả thấp nhất vì chiến lược của nó ngẫu nhiên hoàn toàn, do không lưu trạng thái\n",
        "# và đi tìm ô bẩn có định hướng nên agent thường đi qua nhiều ô sạch không cần thiết, gây lãng phí năng lượng.\n",
        "# 2. Simple Reflex Agent có hiệu quả tốt hơn so với Randomized Agent, nó hoạt động dựa trên quy tắc nếu ô bẩn thì hút,\n",
        "# nếu sạch thì di chuyển theo một hướng cố định nhưng nó vẫn chưa có lưu được lịch sử trạng thái nên đôi khi vẫn đi vòng lặp hoặc đi lại các ô đã sạch.\n",
        "# 3. Model-based Reflex Agent có hiệu quả tốt nhất, so với 2 agent trên thì nó có lưu trạng thái, ghi nhớ những ô đã đi qua và\n",
        "# biết được tình trạng sạch hoặc bẩn của nên nó dựa vào đó để tránh lặp lại các ô sạch, đồng thời có thể di chuyển có kế hoạch để quét hết phòng.\n",
        "# *Về trường hợp 100x100, do căn phòng có 10000 ô và ta đặt max step (năng lượng của agent) là 2000 nên không thể quét hết được."
      ]
    },
    {
      "cell_type": "markdown",
      "metadata": {
        "id": "HxzBzdgmiZ29"
      },
      "source": [
        "## Task 5: Robustness of the agent implementations [10 Points]\n",
        "\n",
        "Describe how **your agent implementations** will perform\n",
        "\n",
        "* if it is put into a rectangular room with unknown size,\n",
        "* if the cleaning area can have an irregular shape (e.g., a hallway connecting two rooms), or\n",
        "* if the room contains obstacles (i.e., squares that it cannot pass through and trigger the bumper sensors).\n",
        "* if the dirt sensor is not perfect and gives 10% of the time a wrong reading (clean when it is dirty or dirty when it is clean).\n",
        "* if the bumper sensor is not perfect and 10% of the time does not report a wall when there is one."
      ]
    },
    {
      "cell_type": "code",
      "execution_count": null,
      "metadata": {
        "id": "l-m1XvSeiZ29"
      },
      "outputs": [],
      "source": [
        "# Answers goes here\n"
      ]
    },
    {
      "cell_type": "markdown",
      "metadata": {
        "id": "2ToC7Gr0iZ29"
      },
      "source": [
        "## Advanced task: Imperfect Dirt Sensor\n",
        "\n",
        "* __Graduate students__ need to complete this task [10 points]\n",
        "* __Undergraduate students__ can attempt this as a bonus task [max +5 bonus points].\n",
        "\n",
        "1. Change your simulation environment to run experiments for the following problem: The dirt sensor has a 10% chance of giving the wrong reading. Perform experiments to observe how this changes the performance of the three implementations. Your model-based reflex agent is likely not able to clean the whole room, so you need to measure performance differently as a tradeoff between energy cost and number of uncleaned squares.\n",
        "\n",
        "2. Design an implement a solution for your model-based agent that will clean better. Show the improvement with experiments."
      ]
    },
    {
      "cell_type": "code",
      "execution_count": null,
      "metadata": {
        "id": "K9g3rhh4iZ29"
      },
      "outputs": [],
      "source": [
        "# Your code and discussion goes here"
      ]
    },
    {
      "cell_type": "markdown",
      "metadata": {
        "id": "T2-HuEOwiZ29"
      },
      "source": [
        "## More Advanced Implementation (not for credit)\n",
        "\n",
        "If the assignment was to easy for yuo then you can think about the following problems. These problems are challenging and not part of this assignment. We will learn implementation strategies and algorithms useful for these tasks during the rest of the semester.\n",
        "\n",
        "* __Obstacles:__ Change your simulation environment to run experiments for the following problem: Add random obstacle squares that also trigger the bumper sensor. The agent does not know where the obstacles are. Perform experiments to observe how this changes the performance of the three implementations. Describe what would need to be done to perform better with obstacles. Add code if you can.\n",
        "\n",
        "* __Agent for and environment with obstacles:__ Implement an agent for an environment where the agent does not know how large the environment is (we assume it is rectangular), where it starts or where the obstacles are. An option would be to always move to the closest unchecked/uncleaned square (note that this is actually depth-first search).\n",
        "\n",
        "* __Utility-based agent:__ Change the environment for a $5 \\times 5$ room, so each square has a fixed probability of getting dirty again. For the implementation, we give the environment a 2-dimensional array of probabilities. The utility of a state is defined as the number of currently clean squares in the room. Implement a utility-based agent that maximizes the expected utility over one full charge which lasts for 100000 time steps. To do this, the agent needs to learn the probabilities with which different squares get dirty again. This is very tricky!"
      ]
    },
    {
      "cell_type": "code",
      "execution_count": null,
      "metadata": {
        "id": "5O1Ixr_XiZ29"
      },
      "outputs": [],
      "source": [
        "# Your ideas/code"
      ]
    }
  ],
  "metadata": {
    "kernelspec": {
      "display_name": ".venv",
      "language": "python",
      "name": "python3"
    },
    "language_info": {
      "codemirror_mode": {
        "name": "ipython",
        "version": 3
      },
      "file_extension": ".py",
      "mimetype": "text/x-python",
      "name": "python",
      "nbconvert_exporter": "python",
      "pygments_lexer": "ipython3",
      "version": "3.12.3"
    },
    "toc-autonumbering": false,
    "colab": {
      "provenance": [],
      "toc_visible": true
    }
  },
  "nbformat": 4,
  "nbformat_minor": 0
}